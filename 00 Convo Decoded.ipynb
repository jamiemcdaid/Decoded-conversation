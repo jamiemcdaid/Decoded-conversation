{
 "cells": [
  {
   "cell_type": "code",
   "execution_count": 9,
   "metadata": {},
   "outputs": [
    {
     "name": "stdout",
     "output_type": "stream",
     "text": [
      "What is your name? a\n",
      "Nice to meet you a!\n",
      "How many years old are you? 5000\n",
      "Wow you're getting old!\n",
      "Were you born in -2980 then? (Yes/No) \n",
      "no\n",
      "Oh, you were born in -2981 then!\n",
      "What is your favourite colour? yes\n",
      "I don't like that colour\n",
      "Thanks for chatting to me a. I learned that you were born in -2981 and are 5000 years old, and your favourite colour is yes, not the same as mine! I promise to use your data responsibly!\n"
     ]
    }
   ],
   "source": [
    "name = input(\"What is your name? \")\n",
    "if len(name) > 7:\n",
    "    print(\"Wow, that's a long name\")\n",
    "print(\"Nice to meet you\",name+\"!\")\n",
    "\n",
    "import datetime\n",
    "from datetime import date\n",
    "d = date.today().year\n",
    "\n",
    "age = input(\"How many years old are you? \")\n",
    "\n",
    "while True:\n",
    "    try:\n",
    "        age=int(age)\n",
    "        break\n",
    "    except:\n",
    "        age = input(\"No, how old are you as a number of years? \")\n",
    " \n",
    "if age > 40:\n",
    "    print(\"Wow you're getting old!\")\n",
    "else:\n",
    "    print(\"Still got your best years ahead!\")\n",
    "\n",
    "birthyear = d - age\n",
    "print(\"Were you born in\",birthyear,\"then? (Yes/No) \")\n",
    "rightyear = input(\"\")\n",
    "if rightyear == \"Yes\" or rightyear ==\"yes\":\n",
    "    print(\"I was right!\",birthyear, \"was a great year!\")\n",
    "    actyear = birthyear\n",
    "else:\n",
    "    print(\"Oh, you were born in\",birthyear-1,\"then!\")\n",
    "    actyear = birthyear-1\n",
    "    \n",
    "colour = input(\"What is your favourite colour? \")\n",
    "if colour ==\"Red\" or colour ==\"red\":\n",
    "    print(\"Red is my favourite too!\")\n",
    "    same = \"the same\"\n",
    "else:\n",
    "    print(\"I don't like that colour\")\n",
    "    same = \"not the same\"\n",
    "\n",
    "print(\"Thanks for chatting to me\",name+\".\",\"I learned that you were born in\",actyear,\"and are\",age,\"years old, and your favourite colour is\",colour+\",\",same,\"as mine! I promise to use your data responsibly!\")\n"
   ]
  },
  {
   "cell_type": "code",
   "execution_count": null,
   "metadata": {},
   "outputs": [],
   "source": [
    "#Stores information about the user - name, age, favourite colour, etc.\n",
    "#Uses the information to calculate more facts about the user - calculate birth year from age, for example\n",
    "#Responds to certain user inputs in different ways, such as agreeing that a specific colour is the best,\n",
    "# but disliking others\n",
    "#Tells the user everything it has learnt throughout the conversation\n",
    "# Build out the program as much as you wish, creating a conversation with multiple paths and outputs.\n",
    "#you may wish to research how to import and use the datetime module.\n",
    "\n"
   ]
  },
  {
   "cell_type": "code",
   "execution_count": null,
   "metadata": {},
   "outputs": [],
   "source": [
    "def agenint():\n",
    "    print(age)\n",
    "    \n",
    "agenint()"
   ]
  },
  {
   "cell_type": "markdown",
   "metadata": {},
   "source": [
    "###### print('hello3')"
   ]
  },
  {
   "cell_type": "markdown",
   "metadata": {},
   "source": [
    "# hello this is\n"
   ]
  },
  {
   "cell_type": "code",
   "execution_count": 12,
   "metadata": {},
   "outputs": [
    {
     "ename": "NameError",
     "evalue": "name 'd' is not defined",
     "output_type": "error",
     "traceback": [
      "\u001b[0;31m---------------------------------------------------------------------------\u001b[0m",
      "\u001b[0;31mNameError\u001b[0m                                 Traceback (most recent call last)",
      "\u001b[0;32m<ipython-input-12-cf09d693e2df>\u001b[0m in \u001b[0;36m<module>\u001b[0;34m\u001b[0m\n\u001b[1;32m      1\u001b[0m \u001b[0;34m\u001b[0m\u001b[0m\n\u001b[0;32m----> 2\u001b[0;31m \u001b[0md\u001b[0m\u001b[0;34m\u001b[0m\u001b[0;34m\u001b[0m\u001b[0m\n\u001b[0m",
      "\u001b[0;31mNameError\u001b[0m: name 'd' is not defined"
     ]
    }
   ],
   "source": [
    "\n",
    "d\n"
   ]
  }
 ],
 "metadata": {
  "kernelspec": {
   "display_name": "Python 3",
   "language": "python",
   "name": "python3"
  },
  "language_info": {
   "codemirror_mode": {
    "name": "ipython",
    "version": 3
   },
   "file_extension": ".py",
   "mimetype": "text/x-python",
   "name": "python",
   "nbconvert_exporter": "python",
   "pygments_lexer": "ipython3",
   "version": "3.7.1"
  }
 },
 "nbformat": 4,
 "nbformat_minor": 2
}
